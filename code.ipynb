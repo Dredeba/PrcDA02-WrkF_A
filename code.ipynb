{
 "cells": [
  {
   "cell_type": "markdown",
   "metadata": {},
   "source": [
    "\n",
    "## DATA ANALYSIS LIFECYCLE\n",
    "    Project: Name of the project\n",
    "    Source: \n",
    "    Author:\n",
    "    Date:\n",
    "\n",
    "\n",
    "### [Project Summary](#1)\n",
    "    - Business Problemm\n",
    "    - Objectives Definition\n",
    "    - Data requirements\n",
    "    - Stakeholders Expectations\n",
    "### [Data Inspection & Sampling](#2)\n",
    "    - Data overview\n",
    "    - Ramdom Sampling\n",
    "    - Systematic Sampling\n",
    "    - Cluster Sampling\n",
    "    - Stratified Sampling\n",
    "\n",
    "### [Data Load - Isolated Repository]\n",
    "    - Create Staging Database Structure\n",
    "    - Define Migration/Pipeline Strategy\n",
    "        a. Batching with PySpark or Hadoop\n",
    "        b. Stream Processing with Kafka or Flink\n",
    "\n",
    "\n",
    "### [Data Preprocessing]\n",
    "    - Identified Quality Isssues\n",
    "        * NonRelevant info\n",
    "        * Null values\n",
    "        * \n",
    "        \n",
    "    - Data Cleaning        \n",
    "    - Data Formatting \n",
    "    - Data Normalization\n",
    "    - Quality Validation\n",
    "    \n",
    "    - Data Mart Integration\n",
    "\n",
    "\n",
    "### [Data Analysis]\n",
    "    - Summarization:\n",
    "        * Means\n",
    "        * Medians\n",
    "        * Mode\n",
    "        * Variance \n",
    "        * Standard Deviation\n",
    "        * Z-Score\n",
    "\n",
    "    - Descriptive\n",
    "    - Predictive\n",
    "    - Prescriptive\n",
    "\n",
    "    - Inferential\n",
    "    - Regression\n",
    "    - Time Series\n",
    "    - Bayesian Inference\n",
    "    - Poisson Regression\n",
    "\n",
    "\n",
    "### [Data Visualization]\n",
    "    - \n",
    "\n",
    "\n",
    "### [Interpretation and Documentation]\n",
    "\n",
    "\n",
    "### [Data Pipeline Architecture and Engineering]\n",
    "    - Data Warehouse\n",
    "    - Data Marts\n",
    "\n",
    "\n",
    "### [Model Assessment and Iteration]\n"
   ]
  },
  {
   "cell_type": "markdown",
   "metadata": {},
   "source": [
    "<a id= '2'></a>  \n",
    "# Checking Data Size"
   ]
  },
  {
   "cell_type": "code",
   "execution_count": 3,
   "metadata": {},
   "outputs": [
    {
     "name": "stdout",
     "output_type": "stream",
     "text": [
      "Data Size:  \n",
      " 17 Columns  121978 rows\n"
     ]
    }
   ],
   "source": [
    "# Checking the data size\n",
    "import os\n",
    "import pandas as pd\n",
    "import numpy as np\n",
    "\n",
    "# Define the data directory relative to the current script location\n",
    "dir_path = '../../MyData'\n",
    "file_name = 'Electric_Vehicle_Population_Data.csv'\n",
    "\n",
    "# Build the absolute path\n",
    "abs_path = os.path.join(dir_path, file_name)\n",
    "\n",
    "# Read the CSV file\n",
    "df = pd.read_csv(abs_path)\n",
    "\n",
    "rows = len(df)\n",
    "columns = df.shape[1]\n",
    "print(\"Data Size: \", '\\n', columns, \"Columns \", rows, \"rows\")"
   ]
  },
  {
   "cell_type": "markdown",
   "metadata": {},
   "source": [
    "# Initial Inspection\n"
   ]
  },
  {
   "cell_type": "code",
   "execution_count": null,
   "metadata": {},
   "outputs": [
    {
     "ename": "NameError",
     "evalue": "name 'df2' is not defined",
     "output_type": "error",
     "traceback": [
      "\u001b[1;31m---------------------------------------------------------------------------\u001b[0m",
      "\u001b[1;31mNameError\u001b[0m                                 Traceback (most recent call last)",
      "Cell \u001b[1;32mIn[2], line 3\u001b[0m\n\u001b[0;32m      1\u001b[0m \u001b[38;5;66;03m# Initial INSPECTION\u001b[39;00m\n\u001b[1;32m----> 3\u001b[0m \u001b[43mdf2\u001b[49m\u001b[38;5;241m.\u001b[39mhead(\u001b[38;5;241m10\u001b[39m)\n",
      "\u001b[1;31mNameError\u001b[0m: name 'df2' is not defined"
     ]
    }
   ],
   "source": [
    "# Initial INSPECTION\n",
    "\n",
    "df.head(10)"
   ]
  }
 ],
 "metadata": {
  "kernelspec": {
   "display_name": ".venv",
   "language": "python",
   "name": "python3"
  },
  "language_info": {
   "codemirror_mode": {
    "name": "ipython",
    "version": 3
   },
   "file_extension": ".py",
   "mimetype": "text/x-python",
   "name": "python",
   "nbconvert_exporter": "python",
   "pygments_lexer": "ipython3",
   "version": "3.12.7"
  }
 },
 "nbformat": 4,
 "nbformat_minor": 2
}
